{
 "cells": [
  {
   "cell_type": "code",
   "execution_count": 1,
   "metadata": {
    "id": "OyYDA2N5jaS3"
   },
   "outputs": [],
   "source": [
    "import torch\n",
    "import torch.nn.functional as F\n",
    "from tqdm import tqdm\n",
    "import matplotlib.pyplot as plt\n",
    "from transformers import AutoTokenizer, AutoModelForTokenClassification\n",
    "from seqeval.metrics import f1_score, recall_score, precision_score, classification_report\n",
    "from sklearn.metrics import confusion_matrix, ConfusionMatrixDisplay\n",
    "import numpy as np\n",
    "import random\n",
    "\n",
    "from datasets import load_dataset"
   ]
  },
  {
   "cell_type": "code",
   "execution_count": 2,
   "metadata": {},
   "outputs": [],
   "source": [
    "seed=42\n",
    "random.seed(seed)\n",
    "np.random.seed(seed)\n",
    "torch.manual_seed(seed)\n",
    "torch.cuda.manual_seed_all(seed)"
   ]
  },
  {
   "cell_type": "code",
   "execution_count": 3,
   "metadata": {
    "colab": {
     "base_uri": "https://localhost:8080/"
    },
    "id": "LotoArojjnG0",
    "outputId": "ef77bc27-76f8-4eaf-b749-162c27966662"
   },
   "outputs": [],
   "source": [
    "dataset = load_dataset(\"surrey-nlp/PLOD-CW-25\")"
   ]
  },
  {
   "cell_type": "code",
   "execution_count": 4,
   "metadata": {
    "id": "hCyeGJGi17A4"
   },
   "outputs": [],
   "source": [
    "labels = [\"O\", \"B-AC\", \"B-LF\", \"I-LF\"]\n",
    "n_labels = len(labels)\n",
    "ltoi = {l: i for i, l in enumerate(labels)}\n",
    "itol = {i: l for l, i in ltoi.items()}"
   ]
  },
  {
   "cell_type": "code",
   "execution_count": 5,
   "metadata": {
    "colab": {
     "base_uri": "https://localhost:8080/"
    },
    "id": "3Ub4Xj1emF83",
    "outputId": "54e1af23-21ac-4256-c684-47cde0321679"
   },
   "outputs": [],
   "source": [
    "model_checkpoint = \"microsoft/BiomedNLP-BiomedBERT-base-uncased-abstract\" # Or deberta-v3-large, etc.\n",
    "tokenizer = AutoTokenizer.from_pretrained(model_checkpoint)\n",
    "\n",
    "# Check if the tokenizer is a fast tokenizer (it should be for DeBERTa-v3)\n",
    "assert tokenizer.is_fast, \"Only fast tokenizers are supported for this example.\""
   ]
  },
  {
   "cell_type": "code",
   "execution_count": 6,
   "metadata": {
    "id": "oi_28FRemLiH"
   },
   "outputs": [],
   "source": [
    "def tokenize_and_align_labels(examples):\n",
    "    tokenized_inputs = tokenizer(\n",
    "        examples[\"tokens\"],\n",
    "        truncation=True,\n",
    "        is_split_into_words=True, # Crucial for pre-tokenized input\n",
    "        max_length=512,\n",
    "        padding=\"max_length\"\n",
    "    )\n",
    "\n",
    "    labels = []\n",
    "    for i, label_sequence in enumerate(examples[\"ner_tags\"]):\n",
    "        word_ids = tokenized_inputs.word_ids(i)\n",
    "        previous_word_idx = None\n",
    "        label_ids = []\n",
    "        for word_idx in word_ids:\n",
    "            if word_idx is None: # Special tokens ([CLS], [SEP])\n",
    "                label_ids.append(-100)\n",
    "            elif word_idx != previous_word_idx: # First token of a new word\n",
    "                label_ids.append(ltoi[label_sequence[word_idx]])\n",
    "            else: # Subsequent tokens of the same word\n",
    "                label_ids.append(-100)\n",
    "\n",
    "\n",
    "            previous_word_idx = word_idx\n",
    "        labels.append(label_ids)\n",
    "    tokenized_inputs[\"labels\"] = labels\n",
    "    return tokenized_inputs"
   ]
  },
  {
   "cell_type": "code",
   "execution_count": 7,
   "metadata": {
    "colab": {
     "base_uri": "https://localhost:8080/"
    },
    "id": "33SKzjqI2-5t",
    "outputId": "2ea73f15-721f-462f-fcb7-8442255988f3"
   },
   "outputs": [
    {
     "name": "stdout",
     "output_type": "stream",
     "text": [
      "[[2, 2112, 17, 7155, 4226, 1680, 14646, 17, 3]]\n",
      "[None, 0, 1, 2, 3, 4, 5, 6, None]\n"
     ]
    }
   ],
   "source": [
    "t = tokenizer([\"Dr. House administered the CPR.\"])\n",
    "print(t.input_ids)\n",
    "print(t.word_ids(0))"
   ]
  },
  {
   "cell_type": "code",
   "execution_count": 8,
   "metadata": {
    "id": "FvgTr0TQ2kiY"
   },
   "outputs": [],
   "source": [
    "data = dataset.map(tokenize_and_align_labels, batched = True)"
   ]
  },
  {
   "cell_type": "code",
   "execution_count": 9,
   "metadata": {
    "id": "AyYEqraW4PxD"
   },
   "outputs": [],
   "source": [
    "train_data, train_labels, train_attention_mask = data['train']['input_ids'], data['train']['labels'], data['train']['attention_mask']\n",
    "val_data, val_labels, val_attention_mask = data['validation']['input_ids'], data['validation']['labels'], data['validation']['attention_mask']\n",
    "test_data, test_labels, test_attention_mask = data['test']['input_ids'], data['test']['labels'], data['test']['attention_mask']"
   ]
  },
  {
   "cell_type": "code",
   "execution_count": 10,
   "metadata": {
    "id": "CUuL3NNq4x2S"
   },
   "outputs": [],
   "source": [
    "device = torch.device(\"cuda\" if torch.cuda.is_available() else \"cpu\")\n",
    "batch_size = 8\n",
    "\n",
    "def get_batch(split = \"train\"):\n",
    "  data = train_data if split == \"train\" else val_data\n",
    "  labels = train_labels if split == \"train\" else val_labels\n",
    "  attention_mask = train_attention_mask if split == \"train\" else val_attention_mask\n",
    "  ix = torch.randint(len(data), (batch_size,))\n",
    "  x = torch.stack([torch.tensor(data[i]).long() for i in ix])\n",
    "  y = torch.stack([torch.tensor(labels[i]).long() for i in ix])\n",
    "  a = torch.stack([torch.tensor(attention_mask[i]) for i in ix])\n",
    "  return x.to(device), y.to(device), a.to(device)\n",
    "\n",
    "\n",
    "@torch.no_grad()\n",
    "def estimate_loss(eval_steps):\n",
    "    out = {}\n",
    "    model.eval()\n",
    "    \n",
    "    for split in [\"train\", \"validation\"]:\n",
    "        losses = torch.zeros(eval_steps)\n",
    "        correct_tokens = 0\n",
    "        total_tokens = 0\n",
    "\n",
    "        for k in range(eval_steps):\n",
    "            x, y, a = get_batch(split)\n",
    "            logits = model(x, attention_mask=a).logits\n",
    "            loss = F.cross_entropy(logits.view(-1, logits.shape[-1]), y.view(-1))\n",
    "            losses[k] = loss.item()\n",
    "\n",
    "            # Accuracy calculation\n",
    "            preds = logits.argmax(dim=-1)\n",
    "            mask = (y != -100)  # optional: ignore padding label if using -100\n",
    "            correct = (preds == y) & mask\n",
    "            correct_tokens += correct.sum().item()\n",
    "            total_tokens += mask.sum().item()\n",
    "\n",
    "        avg_loss = losses.mean().item()\n",
    "        avg_acc = correct_tokens / total_tokens if total_tokens > 0 else 0.0\n",
    "        out[split] = {\"loss\": avg_loss, \"accuracy\": avg_acc}\n",
    "\n",
    "    model.train()\n",
    "    return out"
   ]
  },
  {
   "cell_type": "code",
   "execution_count": 11,
   "metadata": {
    "colab": {
     "base_uri": "https://localhost:8080/"
    },
    "id": "jEMcSmbW4y6j",
    "outputId": "cfd7ecc3-f7be-4a37-80a5-2c1fdcae8058"
   },
   "outputs": [],
   "source": [
    "def train_model(model, optimizer):\n",
    "    train_loss_step = []\n",
    "    train_acc_step = []\n",
    "    val_loss_step = []\n",
    "    val_acc_step = []\n",
    "    eval_step = []\n",
    "\n",
    "    max_steps = 1000\n",
    "\n",
    "    for step in range(max_steps):\n",
    "        x, y, a = get_batch(\"train\")\n",
    "        optimizer.zero_grad()\n",
    "        with torch.autocast(device_type='cuda', dtype=torch.bfloat16):\n",
    "            logits = model(x, attention_mask=a).logits\n",
    "            loss = F.cross_entropy(logits.view(-1, logits.shape[-1]), y.view(-1))\n",
    "        loss.backward()\n",
    "        optimizer.step()\n",
    "\n",
    "        if step % 100 == 0:\n",
    "            # Validation step\n",
    "            metrics = estimate_loss(200)\n",
    "            print(f\"step {step}: \"\n",
    "                  f\"train loss {metrics['train']['loss']:.4f}, acc {metrics['train']['accuracy']:.4f} | \"\n",
    "                  f\"val loss {metrics['validation']['loss']:.4f}, acc {metrics['validation']['accuracy']:.4f}\")\n",
    "            train_loss_step.append(metrics['train']['loss'])\n",
    "            train_acc_step.append(metrics['train']['accuracy'])\n",
    "            val_loss_step.append(metrics['validation']['loss'])\n",
    "            val_acc_step.append(metrics['validation']['accuracy'])\n",
    "            eval_step.append(step)\n",
    "\n",
    "    # Plotting\n",
    "    plt.figure(figsize=(12, 4))\n",
    "    plt.subplot(1, 2, 1)\n",
    "    plt.plot(eval_step, train_loss_step, label='Train Loss')\n",
    "    plt.plot(eval_step, val_loss_step, label='Val Loss')\n",
    "    plt.legend()\n",
    "    plt.title(\"Loss over Steps\")\n",
    "\n",
    "    plt.subplot(1, 2, 2)\n",
    "    plt.plot(eval_step, train_acc_step, label='Train Acc')\n",
    "    plt.plot(eval_step, val_acc_step, label='Val Acc')\n",
    "    plt.legend()\n",
    "    plt.title(\"Accuracy over Steps\")\n",
    "\n",
    "    plt.show()\n",
    "\n",
    "    return model"
   ]
  },
  {
   "cell_type": "code",
   "execution_count": 12,
   "metadata": {},
   "outputs": [],
   "source": [
    "torch.set_float32_matmul_precision(\"high\")"
   ]
  },
  {
   "cell_type": "code",
   "execution_count": 13,
   "metadata": {},
   "outputs": [],
   "source": [
    "@torch.no_grad()\n",
    "def evaluate_model(model, split=\"test\"):\n",
    "    \"\"\"Evaluate model performance on given split with seqeval metrics\"\"\"\n",
    "    model.eval()\n",
    "    \n",
    "    if split == \"test\":\n",
    "        data_input_ids = test_data\n",
    "        data_labels = test_labels\n",
    "        data_attention_mask = test_attention_mask\n",
    "    elif split == \"validation\":\n",
    "        data_input_ids = val_data\n",
    "        data_labels = val_labels\n",
    "        data_attention_mask = val_attention_mask\n",
    "    else:\n",
    "        data_input_ids = train_data\n",
    "        data_labels = train_labels\n",
    "        data_attention_mask = train_attention_mask\n",
    "    \n",
    "    # Process in smaller batches to avoid OOM\n",
    "    batch_size_eval = 16\n",
    "    all_true_labels = []\n",
    "    all_pred_labels = []\n",
    "    \n",
    "    # Process the entire dataset\n",
    "    for i in tqdm(range(0, len(data_input_ids), batch_size_eval), desc=f\"Evaluating on {split}\"):\n",
    "        # Get batch\n",
    "        batch_input_ids = torch.tensor(data_input_ids[i:i+batch_size_eval]).to(device)\n",
    "        batch_labels = torch.tensor(data_labels[i:i+batch_size_eval]).to(device)\n",
    "        batch_attention_mask = torch.tensor(data_attention_mask[i:i+batch_size_eval]).to(device)\n",
    "        \n",
    "        # Get predictions\n",
    "        outputs = model(batch_input_ids, attention_mask=batch_attention_mask)\n",
    "        logits = outputs.logits\n",
    "        predictions = torch.argmax(logits, dim=-1)\n",
    "        \n",
    "        # Convert predictions and labels to lists for seqeval\n",
    "        for j in range(len(batch_input_ids)):\n",
    "            true_label_ids = batch_labels[j].cpu().numpy()\n",
    "            pred_label_ids = predictions[j].cpu().numpy()\n",
    "            \n",
    "            # Convert IDs to labels, handling special tokens\n",
    "            true_seq = []\n",
    "            pred_seq = []\n",
    "            \n",
    "            for true_id, pred_id, mask in zip(true_label_ids, pred_label_ids, batch_attention_mask[j]):\n",
    "                if mask == 1 and true_id != -100:  # Only evaluate on non-padding and non-special tokens\n",
    "                    true_seq.append(itol[true_id.item()])\n",
    "                    pred_seq.append(itol[pred_id.item()])\n",
    "            \n",
    "            if true_seq:  # Only add if not empty\n",
    "                all_true_labels.append(true_seq)\n",
    "                all_pred_labels.append(pred_seq)\n",
    "    \n",
    "    # Calculate metrics using seqeval\n",
    "    precision = precision_score(all_true_labels, all_pred_labels)\n",
    "    recall = recall_score(all_true_labels, all_pred_labels)\n",
    "    f1 = f1_score(all_true_labels, all_pred_labels)\n",
    "    report = classification_report(all_true_labels, all_pred_labels)\n",
    "    \n",
    "    print(f\"\\n=== Evaluation on {split} split ===\")\n",
    "    print(f\"F1 Score: {f1:.4f}\")\n",
    "    print(f\"Precision: {precision:.4f}\")\n",
    "    print(f\"Recall: {recall:.4f}\")\n",
    "    print(\"\\nDetailed Classification Report:\")\n",
    "    print(report)\n",
    "\n",
    "    flat_true = [ltoi[l] for seq in all_true_labels for l in seq]\n",
    "    flat_pred = [ltoi[l] for seq in all_true_labels for l in seq]\n",
    "\n",
    "    cm = confusion_matrix(flat_true, flat_pred, labels=list(range(len(labels))))\n",
    "    fig, ax = plt.subplots(figsize=(8, 6))  # <-- Adjust size here\n",
    "    disp = ConfusionMatrixDisplay(confusion_matrix=cm, display_labels=labels)\n",
    "    disp.plot(cmap='Blues', xticks_rotation=45, ax=ax)\n",
    "    plt.title(\"Confusion Matrix\")\n",
    "    plt.tight_layout()\n",
    "    plt.show()\n",
    "    \n",
    "    return {\n",
    "        \"f1\": f1,\n",
    "        \"precision\": precision,\n",
    "        \"recall\": recall,\n",
    "        \"report\": report\n",
    "    }"
   ]
  },
  {
   "cell_type": "code",
   "execution_count": 14,
   "metadata": {},
   "outputs": [
    {
     "name": "stderr",
     "output_type": "stream",
     "text": [
      "Some weights of BertForTokenClassification were not initialized from the model checkpoint at microsoft/BiomedNLP-BiomedBERT-base-uncased-abstract and are newly initialized: ['classifier.bias', 'classifier.weight']\n",
      "You should probably TRAIN this model on a down-stream task to be able to use it for predictions and inference.\n"
     ]
    },
    {
     "name": "stdout",
     "output_type": "stream",
     "text": [
      "step 0: train loss 1.3208, acc 0.3229 | val loss 1.3202, acc 0.3366\n",
      "step 100: train loss 0.1792, acc 0.9353 | val loss 0.2665, acc 0.9106\n",
      "step 200: train loss 0.1455, acc 0.9464 | val loss 0.2645, acc 0.9089\n",
      "step 300: train loss 0.1442, acc 0.9501 | val loss 0.2671, acc 0.9128\n",
      "step 400: train loss 0.1160, acc 0.9584 | val loss 0.2461, acc 0.9222\n",
      "step 500: train loss 0.0942, acc 0.9676 | val loss 0.2521, acc 0.9181\n",
      "step 600: train loss 0.0962, acc 0.9640 | val loss 0.2457, acc 0.9172\n",
      "step 700: train loss 0.0725, acc 0.9752 | val loss 0.2923, acc 0.9082\n",
      "step 800: train loss 0.0688, acc 0.9765 | val loss 0.3156, acc 0.9168\n",
      "step 900: train loss 0.0702, acc 0.9758 | val loss 0.2973, acc 0.9163\n"
     ]
    },
    {
     "data": {
      "image/png": "[encoded data removed]",
      "text/plain": [
       "<Figure size 864x288 with 2 Axes>"
      ]
     },
     "metadata": {
      "needs_background": "light"
     },
     "output_type": "display_data"
    },
    {
     "name": "stderr",
     "output_type": "stream",
     "text": [
      "Evaluating on test: 100%|█████████████████████████████████████████████████████████████████████████████████████████████████████| 16/16 [00:04<00:00,  3.59it/s]\n"
     ]
    },
    {
     "name": "stdout",
     "output_type": "stream",
     "text": [
      "\n",
      "=== Evaluation on test split ===\n",
      "F1 Score: 0.8461\n",
      "Precision: 0.8290\n",
      "Recall: 0.8640\n",
      "\n",
      "Detailed Classification Report:\n",
      "              precision    recall  f1-score   support\n",
      "\n",
      "          AC       0.89      0.90      0.89       797\n",
      "          LF       0.74      0.80      0.77       482\n",
      "\n",
      "   micro avg       0.83      0.86      0.85      1279\n",
      "   macro avg       0.81      0.85      0.83      1279\n",
      "weighted avg       0.83      0.86      0.85      1279\n",
      "\n"
     ]
    },
    {
     "data": {
      "image/png": "[encoded data removed]",
      "text/plain": [
       "<Figure size 576x432 with 2 Axes>"
      ]
     },
     "metadata": {
      "needs_background": "light"
     },
     "output_type": "display_data"
    }
   ],
   "source": [
    "model = AutoModelForTokenClassification.from_pretrained(\n",
    "    model_checkpoint,\n",
    "    num_labels=n_labels,\n",
    "    id2label=itol,\n",
    "    label2id=ltoi\n",
    ").to(device)\n",
    "model = torch.compile(model)\n",
    "\n",
    "optim = torch.optim.AdamW(model.parameters(), lr = 3e-5)\n",
    "model = train_model(model, optim)\n",
    "out = evaluate_model(model)"
   ]
  },
  {
   "cell_type": "code",
   "execution_count": null,
   "metadata": {},
   "outputs": [],
   "source": []
  }
 ],
 "metadata": {
  "accelerator": "GPU",
  "colab": {
   "gpuType": "T4",
   "provenance": []
  },
  "kernelspec": {
   "display_name": "Python 3 (ipykernel)",
   "language": "python",
   "name": "python3"
  },
  "language_info": {
   "codemirror_mode": {
    "name": "ipython",
    "version": 3
   },
   "file_extension": ".py",
   "mimetype": "text/x-python",
   "name": "python",
   "nbconvert_exporter": "python",
   "pygments_lexer": "ipython3",
   "version": "3.10.12"
  }
 },
 "nbformat": 4,
 "nbformat_minor": 4
}
