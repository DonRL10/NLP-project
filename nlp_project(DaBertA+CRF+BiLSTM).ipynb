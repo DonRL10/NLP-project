{
 "cells": [
  {
   "cell_type": "code",
   "execution_count": 1,
   "id": "a8a2cf45",
   "metadata": {},
   "outputs": [],
   "source": [
    "import torch\n",
    "import torch.nn as nn\n",
    "import torch.nn.functional as F\n",
    "\n",
    "from datasets import load_dataset"
   ]
  },
  {
   "cell_type": "code",
   "execution_count": 2,
   "id": "d269a7d8",
   "metadata": {},
   "outputs": [],
   "source": [
    "dataset = load_dataset(\"surrey-nlp/PLOD-CW-25\")"
   ]
  },
  {
   "cell_type": "code",
   "execution_count": 3,
   "id": "16c63684",
   "metadata": {},
   "outputs": [],
   "source": [
    "labels = [\"O\", \"B-AC\", \"B-LF\", \"I-LF\"]\n",
    "n_labels = len(labels)\n",
    "ltoi = {l: i for i, l in enumerate(labels)}\n",
    "itol = {i: l for l, i in ltoi.items()}"
   ]
  },
  {
   "cell_type": "code",
   "execution_count": 4,
   "id": "ac37730f",
   "metadata": {},
   "outputs": [
    {
     "name": "stderr",
     "output_type": "stream",
     "text": [
      "/user/HS400/rl01179/.local/lib/python3.10/site-packages/transformers/convert_slow_tokenizer.py:559: UserWarning: The sentencepiece tokenizer that you are converting to a fast tokenizer uses the byte fallback option which is not implemented in the fast tokenizers. In practice this means that the fast version of the tokenizer can produce unknown tokens whereas the sentencepiece version would have converted these unknown tokens into a sequence of byte tokens matching the original piece of text.\n",
      "  warnings.warn(\n"
     ]
    }
   ],
   "source": [
    "from transformers import AutoTokenizer\n",
    "\n",
    "model_checkpoint = \"microsoft/deberta-v3-base\" # Or deberta-v3-large, etc.\n",
    "tokenizer = AutoTokenizer.from_pretrained(model_checkpoint)\n",
    "\n",
    "# Check if the tokenizer is a fast tokenizer (it should be for DeBERTa-v3)\n",
    "assert tokenizer.is_fast, \"Only fast tokenizers are supported for this example.\""
   ]
  },
  {
   "cell_type": "code",
   "execution_count": 5,
   "id": "8c201d19",
   "metadata": {},
   "outputs": [],
   "source": [
    "def tokenize_and_align_labels(examples):\n",
    "    tokenized_inputs = tokenizer(\n",
    "        examples[\"tokens\"],\n",
    "        truncation=True,\n",
    "        is_split_into_words=True,\n",
    "        max_length=512,\n",
    "        padding=\"max_length\"\n",
    "    )\n",
    "\n",
    "    aligned_labels_batch = []\n",
    "    for i, label_sequence in enumerate(examples[\"ner_tags\"]):\n",
    "        word_ids = tokenized_inputs.word_ids(batch_index=i)\n",
    "        previous_word_idx = None\n",
    "        label_ids_for_sequence = []\n",
    "        for word_idx in word_ids:\n",
    "            if word_idx is None:  # Special tokens ([CLS], [SEP]) or padding\n",
    "                label_ids_for_sequence.append(ltoi[\"O\"]) # Assign 'O', will be masked by CRF if padding\n",
    "            elif word_idx != previous_word_idx:  # First token of a new word\n",
    "                label_ids_for_sequence.append(ltoi[label_sequence[word_idx]])\n",
    "            else:  # Subsequent tokens of the same word\n",
    "                current_label_str = label_sequence[word_idx]\n",
    "                # Propagate I-tag if B-tag, otherwise keep current tag (O or I-tag)\n",
    "                if current_label_str.startswith(\"B-\"):\n",
    "                    related_i_tag = \"I-\" + current_label_str[2:]\n",
    "                    if related_i_tag in ltoi:\n",
    "                        label_ids_for_sequence.append(ltoi[related_i_tag])\n",
    "                    else: # No specific I-tag, e.g. B-AC without I-AC\n",
    "                        label_ids_for_sequence.append(ltoi[current_label_str]) # or ltoi[\"O\"]\n",
    "                else:\n",
    "                    label_ids_for_sequence.append(ltoi[current_label_str])\n",
    "            previous_word_idx = word_idx\n",
    "        aligned_labels_batch.append(label_ids_for_sequence)\n",
    "    tokenized_inputs[\"labels\"] = aligned_labels_batch\n",
    "    return tokenized_inputs"
   ]
  },
  {
   "cell_type": "code",
   "execution_count": 6,
   "id": "e5041678",
   "metadata": {},
   "outputs": [],
   "source": [
    "data = dataset.map(tokenize_and_align_labels, batched = True)"
   ]
  },
  {
   "cell_type": "code",
   "execution_count": 7,
   "id": "f6704a86",
   "metadata": {},
   "outputs": [],
   "source": [
    "train_data, train_labels, train_attention_mask = data['train']['input_ids'], data['train']['labels'], data['train']['attention_mask']\n",
    "val_data, val_labels, val_attention_mask = data['validation']['input_ids'], data['validation']['labels'], data['validation']['attention_mask']\n",
    "test_data, test_labels, test_attention_mask = data['test']['input_ids'], data['test']['labels'], data['test']['attention_mask']"
   ]
  },
  {
   "cell_type": "code",
   "execution_count": 104,
   "id": "9eb4dccc",
   "metadata": {},
   "outputs": [],
   "source": [
    "device = torch.device(\"cuda\" if torch.cuda.is_available() else \"cpu\")\n",
    "batch_size = 8\n",
    "\n",
    "def get_batch(split = \"train\"):\n",
    "  data = train_data if split == \"train\" else val_data\n",
    "  labels = train_labels if split == \"train\" else val_labels\n",
    "  attention_mask = train_attention_mask if split == \"train\" else val_attention_mask\n",
    "  ix = torch.randint(len(data), (batch_size,))\n",
    "  x = torch.stack([torch.tensor(data[i]).long() for i in ix])\n",
    "  y = torch.stack([torch.tensor(labels[i]).long() for i in ix])\n",
    "  a = torch.stack([torch.tensor(attention_mask[i]) for i in ix])\n",
    "  return x.to(device), y.to(device), a.to(device)\n",
    "\n",
    "@torch.no_grad()\n",
    "def estimate_loss(eval_steps):\n",
    "    out = {}\n",
    "    model.eval()\n",
    "    \n",
    "    for split in [\"train\", \"validation\"]:\n",
    "        losses = torch.zeros(eval_steps)\n",
    "        correct_tokens = 0\n",
    "        total_tokens = 0\n",
    "\n",
    "        for k in range(eval_steps):\n",
    "            x, y, a = get_batch(split) \n",
    "            loss, logits = model(x, attention_mask=a, labels = y)\n",
    "            losses[k] = loss.item()\n",
    "\n",
    "            # Accuracy calculation\n",
    "            preds = logits.argmax(dim=-1)\n",
    "            mask = (y != 0)  # optional: ignore padding label if using -100\n",
    "            correct = (preds == y) & mask\n",
    "            correct_tokens += correct.sum().item()\n",
    "            total_tokens += mask.sum().item()\n",
    "\n",
    "        avg_loss = losses.mean().item()\n",
    "        avg_acc = correct_tokens / total_tokens if total_tokens > 0 else 0.0\n",
    "        out[split] = {\"loss\": avg_loss, \"accuracy\": avg_acc}\n",
    "\n",
    "    model.train()\n",
    "    return out\n",
    "\n",
    "\n",
    "from seqeval.metrics import precision_score, classification_report, f1_score, recall_score\n",
    "from sklearn.metrics import confusion_matrix, ConfusionMatrixDisplay\n",
    "from tqdm import tqdm\n",
    "\n",
    "@torch.no_grad()\n",
    "def evaluate_model(model, split=\"test\"):\n",
    "    model.eval()\n",
    "    \n",
    "    if split == \"test\":\n",
    "        data_input_ids = test_data\n",
    "        data_labels = test_labels\n",
    "        data_attention_mask = test_attention_mask\n",
    "    elif split == \"validation\":\n",
    "        data_input_ids = val_data\n",
    "        data_labels = val_labels\n",
    "        data_attention_mask = val_attention_mask\n",
    "    else:\n",
    "        data_input_ids = train_data\n",
    "        data_labels = train_labels\n",
    "        data_attention_mask = train_attention_mask\n",
    "    \n",
    "    # Process in smaller batches to avoid OOM\n",
    "    batch_size_eval = 16\n",
    "    all_true_labels = []\n",
    "    all_pred_labels = []\n",
    "    \n",
    "    # Process the entire dataset\n",
    "    for i in tqdm(range(0, len(data_input_ids), batch_size_eval), desc=f\"Evaluating on {split}\"):\n",
    "        # Get batch\n",
    "        batch_input_ids = torch.tensor(data_input_ids[i:i+batch_size_eval]).to(device)\n",
    "        batch_labels = torch.tensor(data_labels[i:i+batch_size_eval]).to(device)\n",
    "        batch_attention_mask = torch.tensor(data_attention_mask[i:i+batch_size_eval]).to(device)\n",
    "        \n",
    "        # Get predictions\n",
    "        _, logits = model(batch_input_ids, attention_mask=batch_attention_mask)\n",
    "        preds = logits.argmax(-1)\n",
    "        \n",
    "        # Convert predictions and labels to lists for seqeval\n",
    "        for j in range(len(batch_input_ids)):\n",
    "            true_label_ids = batch_labels[j].cpu().numpy()\n",
    "            pred_label_ids = preds[j].cpu().numpy()\n",
    "            \n",
    "            # Convert IDs to labels, handling special tokens\n",
    "            true_seq = []\n",
    "            pred_seq = []\n",
    "            \n",
    "            for true_id, pred_id, mask in zip(true_label_ids, pred_label_ids, batch_attention_mask[j]):\n",
    "                if mask == 1 and true_id != 0:  # Only evaluate on non-padding and non-special tokens\n",
    "                    true_seq.append(itol[true_id.item()])\n",
    "                    pred_seq.append(itol[pred_id])\n",
    "            \n",
    "            if true_seq:  # Only add if not empty\n",
    "                all_true_labels.append(true_seq)\n",
    "                all_pred_labels.append(pred_seq)\n",
    "    print(all_pred_labels[0], all_true_labels[0])\n",
    "    # Calculate metrics using seqeval\n",
    "    precision = precision_score(all_true_labels, all_pred_labels)\n",
    "    recall = recall_score(all_true_labels, all_pred_labels)\n",
    "    f1 = f1_score(all_true_labels, all_pred_labels)\n",
    "    report = classification_report(all_true_labels, all_pred_labels)\n",
    "    \n",
    "    print(f\"\\n=== Evaluation on {split} split ===\")\n",
    "    print(f\"F1 Score: {f1:.4f}\")\n",
    "    print(f\"Precision: {precision:.4f}\")\n",
    "    print(f\"Recall: {recall:.4f}\")\n",
    "    print(\"\\nDetailed Classification Report:\")\n",
    "    print(report)\n",
    "\n",
    "    flat_true = [ltoi[l] for seq in all_true_labels for l in seq]\n",
    "    flat_pred = [ltoi[l] for seq in all_pred_labels for l in seq]\n",
    "\n",
    "    cm = confusion_matrix(flat_true, flat_pred, labels=list(range(len(labels))))\n",
    "    fig, ax = plt.subplots(figsize=(8, 6))  \n",
    "    disp = ConfusionMatrixDisplay(confusion_matrix=cm, display_labels=labels)\n",
    "    disp.plot(cmap='Blues', xticks_rotation=45, ax=ax)\n",
    "    plt.title(\"Confusion Matrix\")\n",
    "    plt.tight_layout()\n",
    "    plt.show()\n",
    "    \n",
    "    return {\n",
    "        \"f1\": f1,\n",
    "        \"precision\": precision,\n",
    "        \"recall\": recall,\n",
    "        \"report\": report\n",
    "    }"
   ]
  },
  {
   "cell_type": "code",
   "execution_count": 92,
   "id": "c7fa5c53",
   "metadata": {},
   "outputs": [],
   "source": [
    "from transformers import AutoModelForTokenClassification\n",
    "from torchcrf import CRF"
   ]
  },
  {
   "cell_type": "code",
   "execution_count": 93,
   "id": "74f826ed",
   "metadata": {},
   "outputs": [],
   "source": [
    "class DebertaCrfForTokenClassification(torch.nn.Module):\n",
    "    def __init__(self, model_name, num_labels, id2label, label2id):\n",
    "        super().__init__()\n",
    "        self.num_labels = num_labels\n",
    "        self.deberta = AutoModelForTokenClassification.from_pretrained(\n",
    "            model_name,\n",
    "            num_labels=num_labels, # DeBERTa's classifier head outputs scores for each label\n",
    "            id2label=id2label,\n",
    "            label2id=label2id\n",
    "        )\n",
    "        \n",
    "        self.deberta.classifier = nn.LSTM(768, 128, num_layers=1, bidirectional=True, batch_first=True)\n",
    "\n",
    "        self.logits = nn.Linear(128*2, num_labels)\n",
    "\n",
    "        self.crf = CRF(num_tags=num_labels, batch_first=True)\n",
    "\n",
    "    def forward(self, input_ids, attention_mask, labels=None):\n",
    "        x, _= self.deberta(input_ids=input_ids, attention_mask=attention_mask).logits\n",
    "        x = self.logits(x)\n",
    "\n",
    "        if labels is not None:\n",
    "            loss = -self.crf(x, labels, mask=attention_mask.bool(), reduction='mean')\n",
    "            return loss, x\n",
    "        else:\n",
    "\n",
    "            decoded_tags = self.crf.decode(x, mask=attention_mask.bool())\n",
    "            return decoded_tags, x\n"
   ]
  },
  {
   "cell_type": "code",
   "execution_count": 94,
   "id": "fd5fd18f",
   "metadata": {},
   "outputs": [
    {
     "name": "stderr",
     "output_type": "stream",
     "text": [
      "Some weights of DebertaV2ForTokenClassification were not initialized from the model checkpoint at microsoft/deberta-v3-base and are newly initialized: ['classifier.bias', 'classifier.weight']\n",
      "You should probably TRAIN this model on a down-stream task to be able to use it for predictions and inference.\n"
     ]
    }
   ],
   "source": [
    "model = DebertaCrfForTokenClassification(\n",
    "    model_checkpoint,\n",
    "    num_labels=n_labels,\n",
    "    id2label=itol,\n",
    "    label2id=ltoi\n",
    ").to(device)"
   ]
  },
  {
   "cell_type": "code",
   "execution_count": 95,
   "id": "5eee2863",
   "metadata": {},
   "outputs": [],
   "source": [
    "from tqdm import tqdm\n",
    "\n",
    "optim = torch.optim.AdamW(model.parameters(), lr = 3e-5)\n",
    "max_steps = 500"
   ]
  },
  {
   "cell_type": "code",
   "execution_count": 96,
   "id": "c1d540fa",
   "metadata": {},
   "outputs": [],
   "source": [
    "import matplotlib.pyplot as plt"
   ]
  },
  {
   "cell_type": "code",
   "execution_count": 97,
   "id": "c85f2f10",
   "metadata": {},
   "outputs": [
    {
     "name": "stderr",
     "output_type": "stream",
     "text": [
      "  0%|          | 1/500 [00:44<6:09:47, 44.46s/it]"
     ]
    },
    {
     "name": "stdout",
     "output_type": "stream",
     "text": [
      "step 0: train loss 57.6049, acc 0.1350 | val loss 59.3718, acc 0.1318\n"
     ]
    },
    {
     "name": "stderr",
     "output_type": "stream",
     "text": [
      " 20%|██        | 101/500 [02:12<1:31:53, 13.82s/it]"
     ]
    },
    {
     "name": "stdout",
     "output_type": "stream",
     "text": [
      "step 100: train loss 15.0412, acc 0.8369 | val loss 17.4228, acc 0.8157\n"
     ]
    },
    {
     "name": "stderr",
     "output_type": "stream",
     "text": [
      " 40%|████      | 201/500 [03:41<1:08:56, 13.83s/it]"
     ]
    },
    {
     "name": "stdout",
     "output_type": "stream",
     "text": [
      "step 200: train loss 10.4692, acc 0.9287 | val loss 13.3702, acc 0.8981\n"
     ]
    },
    {
     "name": "stderr",
     "output_type": "stream",
     "text": [
      " 60%|██████    | 301/500 [05:10<45:50, 13.82s/it]  "
     ]
    },
    {
     "name": "stdout",
     "output_type": "stream",
     "text": [
      "step 300: train loss 11.0487, acc 0.9328 | val loss 14.2947, acc 0.8920\n"
     ]
    },
    {
     "name": "stderr",
     "output_type": "stream",
     "text": [
      " 80%|████████  | 401/500 [06:38<22:49, 13.83s/it]"
     ]
    },
    {
     "name": "stdout",
     "output_type": "stream",
     "text": [
      "step 400: train loss 7.8909, acc 0.9509 | val loss 14.0410, acc 0.8926\n"
     ]
    },
    {
     "name": "stderr",
     "output_type": "stream",
     "text": [
      "100%|██████████| 500/500 [07:21<00:00,  1.13it/s]\n"
     ]
    },
    {
     "data": {
      "image/png": "[encoded data removed]",
      "text/plain": [
       "<Figure size 864x288 with 2 Axes>"
      ]
     },
     "metadata": {
      "needs_background": "light"
     },
     "output_type": "display_data"
    }
   ],
   "source": [
    "lossi = []\n",
    "lri = []\n",
    "\n",
    "train_loss_step = []\n",
    "train_acc_step = []\n",
    "val_loss_step = []\n",
    "val_acc_step = []\n",
    "eval_step = []\n",
    "\n",
    "for step in tqdm(range(max_steps)):\n",
    "  # for g in optim.param_groups:\n",
    "  #   g['lr'] = lrs[step]\n",
    "\n",
    "  x, y, a = get_batch(\"train\")\n",
    "  optim.zero_grad()\n",
    "  with torch.autocast(device_type='cuda', dtype=torch.bfloat16):\n",
    "    loss, logits = model(x, attention_mask = a, labels = y)\n",
    "  loss.backward()\n",
    "  optim.step()\n",
    "  # lri.append(lre[step])\n",
    "  # lossi.append(loss.item())\n",
    "  if step % 100 == 0:\n",
    "    metrics = estimate_loss(100)\n",
    "    print(f\"step {step}: \"\n",
    "          f\"train loss {metrics['train']['loss']:.4f}, acc {metrics['train']['accuracy']:.4f} | \"\n",
    "          f\"val loss {metrics['validation']['loss']:.4f}, acc {metrics['validation']['accuracy']:.4f}\")\n",
    "    train_loss_step.append(metrics['train']['loss'])\n",
    "    train_acc_step.append(metrics['train']['accuracy'])\n",
    "    val_loss_step.append(metrics['validation']['loss'])\n",
    "    val_acc_step.append(metrics['validation']['accuracy'])\n",
    "    eval_step.append(step)\n",
    "\n",
    "# Plotting\n",
    "plt.figure(figsize=(12, 4))\n",
    "plt.subplot(1, 2, 1)\n",
    "plt.plot(eval_step, train_loss_step, label='Train Loss')\n",
    "plt.plot(eval_step, val_loss_step, label='Val Loss')\n",
    "plt.legend()\n",
    "plt.title(\"Loss over Steps\")\n",
    "\n",
    "plt.subplot(1, 2, 2)\n",
    "plt.plot(eval_step, train_acc_step, label='Train Acc')\n",
    "plt.plot(eval_step, val_acc_step, label='Val Acc')\n",
    "plt.legend()\n",
    "plt.title(\"Accuracy over Steps\")\n",
    "\n",
    "plt.show()"
   ]
  },
  {
   "cell_type": "code",
   "execution_count": 108,
   "id": "0a644c0d",
   "metadata": {},
   "outputs": [
    {
     "name": "stderr",
     "output_type": "stream",
     "text": [
      "Evaluating on test: 100%|██████████| 16/16 [00:06<00:00,  2.30it/s]"
     ]
    },
    {
     "name": "stdout",
     "output_type": "stream",
     "text": [
      "['B-AC', 'B-AC', 'B-AC', 'B-AC', 'B-LF', 'I-LF', 'B-LF', 'I-LF', 'I-LF', 'I-LF', 'I-LF', 'I-LF', 'I-LF', 'I-LF', 'I-LF', 'B-AC'] ['B-AC', 'B-AC', 'B-AC', 'B-AC', 'B-LF', 'I-LF', 'B-LF', 'I-LF', 'I-LF', 'I-LF', 'I-LF', 'I-LF', 'I-LF', 'I-LF', 'I-LF', 'B-AC']\n",
      "\n",
      "=== Evaluation on test split ===\n",
      "F1 Score: 0.9681\n",
      "Precision: 0.9787\n",
      "Recall: 0.9578\n",
      "\n",
      "Detailed Classification Report:\n",
      "              precision    recall  f1-score   support\n",
      "\n",
      "          AC       1.00      0.97      0.98      1342\n",
      "          LF       0.93      0.93      0.93       482\n",
      "\n",
      "   micro avg       0.98      0.96      0.97      1824\n",
      "   macro avg       0.96      0.95      0.96      1824\n",
      "weighted avg       0.98      0.96      0.97      1824\n",
      "\n"
     ]
    },
    {
     "name": "stderr",
     "output_type": "stream",
     "text": [
      "\n"
     ]
    },
    {
     "data": {
      "image/png": "[encoded data removed]",
      "text/plain": [
       "<Figure size 576x432 with 2 Axes>"
      ]
     },
     "metadata": {
      "needs_background": "light"
     },
     "output_type": "display_data"
    },
    {
     "data": {
      "text/plain": [
       "{'f1': 0.9681352175117761,\n",
       " 'precision': 0.9787114845938375,\n",
       " 'recall': 0.9577850877192983,\n",
       " 'report': '              precision    recall  f1-score   support\\n\\n          AC       1.00      0.97      0.98      1342\\n          LF       0.93      0.93      0.93       482\\n\\n   micro avg       0.98      0.96      0.97      1824\\n   macro avg       0.96      0.95      0.96      1824\\nweighted avg       0.98      0.96      0.97      1824\\n'}"
      ]
     },
     "execution_count": 108,
     "metadata": {},
     "output_type": "execute_result"
    }
   ],
   "source": [
    "evaluate_model(model, split = 'test')"
   ]
  },
  {
   "cell_type": "code",
   "execution_count": null,
   "id": "5b757244",
   "metadata": {},
   "outputs": [],
   "source": []
  }
 ],
 "metadata": {
  "kernelspec": {
   "display_name": "Python 3",
   "language": "python",
   "name": "python3"
  },
  "language_info": {
   "codemirror_mode": {
    "name": "ipython",
    "version": 3
   },
   "file_extension": ".py",
   "mimetype": "text/x-python",
   "name": "python",
   "nbconvert_exporter": "python",
   "pygments_lexer": "ipython3",
   "version": "3.10.12"
  }
 },
 "nbformat": 4,
 "nbformat_minor": 5
}
